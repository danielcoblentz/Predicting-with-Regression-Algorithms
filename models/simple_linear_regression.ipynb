{
 "cells": [
  {
   "cell_type": "markdown",
   "metadata": {},
   "source": [
    " implements a simple linear regression model to predict the logarithm of home sale prices (LOG_SALEPRICE) based on the year a home was built (YEARBUILT)"
   ]
  },
  {
   "cell_type": "code",
   "execution_count": null,
   "metadata": {},
   "outputs": [],
   "source": [
    "import pandas as pd\n",
    "import numpy as np\n",
    "from sklearn.model_selection import train_test_split\n",
    "from sklearn.linear_model import LinearRegression\n",
    "from sklearn.metrics import mean_squared_error, r2_score\n",
    "import matplotlib.pyplot as plt\n",
    "\n",
    "# load home dataset\n",
    "df = pd.read_csv(\"https://raw.githubusercontent.com/IBM/ml-learning-path-assets/master/data/predict_home_value.csv\")\n",
    "df = df.drop(['ID'], axis=1)\n",
    "\n",
    "# appily log-transform the target (SALESPRICE) to increase stablitlity \n",
    "df['LOG_SALEPRICE'] = np.log(df['SALEPRICE'])\n",
    "\n",
    "# isolate the feature 'YEARBUILT' as the independent variable and 'LOG_SALEPRICE' as the dependent variable\n",
    "X = df[['YEARBUILT']]\n",
    "y = df['LOG_SALEPRICE']\n",
    "\n",
    "# Split the dataset into training (80%) and testing (20%) \n",
    "X_train, X_test, y_train, y_test = train_test_split(X, y, test_size=0.2, random_state=42)\n",
    "\n",
    "# train the model\n",
    "model = LinearRegression()\n",
    "model.fit(X_train, y_train)\n",
    "\n",
    "# prediction regression line \n",
    "y_pred = model.predict(X_test)\n",
    "\n",
    "\n",
    "#calculate and print performance metrics: Mean Absolute Error, Mean Squared Error, and R² Score\n",
    "print(\"Simple Linear Regression\")\n",
    "print(f\"Intercept: {model.intercept_}\")\n",
    "print(f\"Coefficients: {model.coef_}\")\n",
    "mse = mean_squared_error(y_test, y_pred)\n",
    "mae = mean_absolute_error(y_test, y_pred)\n",
    "r2 = r2_score(y_test, y_pred)\n",
    "print(f\"Mean Absolute Error: {mae:.2f}\")\n",
    "print(f\"Mean Squared Error: {mse:.2f}\")\n",
    "print(f\"R² Score: {r2:.2f}\")\n",
    "\n",
    "# graph the actual data points and the predicted regression line\n",
    "plt.scatter(X_test, y_test, color='blue', label='Actual')\n",
    "plt.plot(X_test, y_pred, color='red', label='Predicted')\n",
    "plt.xlabel('Year Built')\n",
    "plt.ylabel('Log Sale Price')\n",
    "plt.title('Simple Linear Regression: Year Built vs Log Sale Price')\n",
    "plt.legend()\n",
    "plt.show()\n"
   ]
  }
 ],
 "metadata": {
  "language_info": {
   "name": "python"
  }
 },
 "nbformat": 4,
 "nbformat_minor": 2
}
