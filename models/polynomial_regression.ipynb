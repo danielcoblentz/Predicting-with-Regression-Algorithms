{
 "cells": [
  {
   "cell_type": "markdown",
   "metadata": {},
   "source": []
  },
  {
   "cell_type": "code",
   "execution_count": null,
   "metadata": {},
   "outputs": [],
   "source": [
    "# import necessary libraries for data handling and modeling\n",
    "import pandas as pd\n",
    "from sklearn.model_selection import train_test_split\n",
    "from sklearn.preprocessing import PolynomialFeatures, StandardScaler\n",
    "from sklearn.pipeline import Pipeline\n",
    "from sklearn.linear_model import Ridge\n",
    "from sklearn.metrics import mean_squared_error, r2_score\n",
    "\n",
    "# load housing dataset\n",
    "df = pd.read_csv(\"https://raw.githubusercontent.com/IBM/ml-learning-path-assets/master/data/predict_home_value.csv\")\n",
    "df = df.drop(['ID'], axis=1)\n",
    "\n",
    "# log-transform the target variable (SALEPRICE)\n",
    "df['LOG_SALEPRICE'] = np.log(df['SALEPRICE'])\n",
    "\n",
    "# Prepare the feature matrix 'X' and the target vector 'y'\n",
    "X = df[['YEARBUILT']] #'YEARBUILT' as the feature for the model\n",
    "y = df['LOG_SALEPRICE']#log-transformed sale price as the target\n",
    "\n",
    "# Polynomial Regression Pipeline\n",
    "model = Pipeline(steps=[\n",
    "    ('poly', PolynomialFeatures(degree=2)),\n",
    "    ('scaler', StandardScaler()),\n",
    "    ('regressor', Ridge(alpha=1.0))# Ridge regression to prevent overfitting\n",
    "])\n",
    "\n",
    "# split the dataset into 80% training and 20% testing data\n",
    "X_train, X_test, y_train, y_test = train_test_split(X, y, test_size=0.2, random_state=42)\n",
    "\n",
    "#train model\n",
    "model.fit(X_train, y_train)\n",
    "\n",
    "#use the trained model to make predictions on the testing set\n",
    "y_pred = model.predict(X_test)\n",
    "\n",
    "# output metrics to terminal\n",
    "print(\"polynomial regression\")\n",
    "print(f\"mean qquared error: {mean_squared_error(y_test, y_pred):.2f}\")\n",
    "print(f\"R² Score: {r2_score(y_test, y_pred):.2f}\")\n"
   ]
  }
 ],
 "metadata": {
  "language_info": {
   "name": "python"
  }
 },
 "nbformat": 4,
 "nbformat_minor": 2
}
